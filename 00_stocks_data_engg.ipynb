{
  "cells": [
    {
      "cell_type": "markdown",
      "source": [
        "## Import the libraries"
      ],
      "metadata": {
        "nteract": {
          "transient": {
            "deleting": false
          }
        }
      }
    },
    {
      "cell_type": "code",
      "source": [
        "from pyspark.sql.functions import *\r\n",
        "from pyspark.sql.window import Window\r\n",
        "import numpy as np \r\n",
        "from pyspark.sql.types import *"
      ],
      "outputs": [
        {
          "output_type": "display_data",
          "data": {
            "application/vnd.livy.statement-meta+json": {
              "spark_pool": "spark1",
              "session_id": "11",
              "statement_id": 2,
              "state": "finished",
              "livy_statement_state": "available",
              "queued_time": "2023-04-30T20:58:21.8269796Z",
              "session_start_time": "2023-04-30T20:58:21.8813472Z",
              "execution_start_time": "2023-04-30T21:01:06.3219913Z",
              "execution_finish_time": "2023-04-30T21:01:06.5559001Z",
              "spark_jobs": null,
              "parent_msg_id": "52cd65be-ae96-42d4-a77b-b9c80c6083a9"
            },
            "text/plain": "StatementMeta(spark1, 11, 2, Finished, Available)"
          },
          "metadata": {}
        }
      ],
      "execution_count": 6,
      "metadata": {
        "jupyter": {
          "source_hidden": false,
          "outputs_hidden": false
        },
        "nteract": {
          "transient": {
            "deleting": false
          }
        },
        "gather": {
          "logged": 1682877315698
        }
      }
    },
    {
      "cell_type": "markdown",
      "source": [
        "## Read the metadata"
      ],
      "metadata": {
        "nteract": {
          "transient": {
            "deleting": false
          }
        }
      }
    },
    {
      "cell_type": "code",
      "source": [
        "meta = spark.read.option(\"header\",\"true\").csv(\"abfss://royadlsfs@royadlsgen2.dfs.core.windows.net/symbols_valid_meta.csv\")\r\n",
        "display(meta.limit(3))\r\n",
        "# meta.limit(3).toPandas()"
      ],
      "outputs": [
        {
          "output_type": "display_data",
          "data": {
            "application/vnd.livy.statement-meta+json": {
              "spark_pool": "spark1",
              "session_id": "11",
              "statement_id": 3,
              "state": "finished",
              "livy_statement_state": "available",
              "queued_time": "2023-04-30T21:00:30.1499381Z",
              "session_start_time": null,
              "execution_start_time": "2023-04-30T21:01:06.7420769Z",
              "execution_finish_time": "2023-04-30T21:01:26.114875Z",
              "spark_jobs": null,
              "parent_msg_id": "8e083b35-1d2c-4a3e-a759-118662be3680"
            },
            "text/plain": "StatementMeta(spark1, 11, 3, Finished, Available)"
          },
          "metadata": {}
        },
        {
          "output_type": "display_data",
          "data": {
            "application/vnd.synapse.widget-view+json": {
              "widget_id": "854d3de6-e82c-4f9f-b762-6f81943542d0",
              "widget_type": "Synapse.DataFrame"
            },
            "text/plain": "SynapseWidget(Synapse.DataFrame, 854d3de6-e82c-4f9f-b762-6f81943542d0)"
          },
          "metadata": {}
        }
      ],
      "execution_count": 7,
      "metadata": {
        "jupyter": {
          "source_hidden": false,
          "outputs_hidden": false
        },
        "nteract": {
          "transient": {
            "deleting": false
          }
        },
        "gather": {
          "logged": 1682877338543
        },
        "collapsed": false
      }
    },
    {
      "cell_type": "markdown",
      "source": [
        "## Read the stocks data"
      ],
      "metadata": {
        "nteract": {
          "transient": {
            "deleting": false
          }
        }
      }
    },
    {
      "cell_type": "code",
      "source": [
        "stocks = spark.read.option(\"header\",\"true\").csv(\"abfss://royadlsfs@royadlsgen2.dfs.core.windows.net/stocks/\")\r\n",
        "display(stocks.limit(3))\r\n",
        "# stocks.limit(3).toPandas()"
      ],
      "outputs": [
        {
          "output_type": "display_data",
          "data": {
            "application/vnd.livy.statement-meta+json": {
              "spark_pool": "spark1",
              "session_id": "11",
              "statement_id": 4,
              "state": "finished",
              "livy_statement_state": "available",
              "queued_time": "2023-04-30T21:02:01.1618251Z",
              "session_start_time": null,
              "execution_start_time": "2023-04-30T21:02:01.362577Z",
              "execution_finish_time": "2023-04-30T21:02:24.8073062Z",
              "spark_jobs": null,
              "parent_msg_id": "5565a337-57c1-4aa1-9f5a-74ff9407b858"
            },
            "text/plain": "StatementMeta(spark1, 11, 4, Finished, Available)"
          },
          "metadata": {}
        },
        {
          "output_type": "display_data",
          "data": {
            "application/vnd.synapse.widget-view+json": {
              "widget_id": "0ea8f9c9-d8df-4bd9-9145-f0854277f1ec",
              "widget_type": "Synapse.DataFrame"
            },
            "text/plain": "SynapseWidget(Synapse.DataFrame, 0ea8f9c9-d8df-4bd9-9145-f0854277f1ec)"
          },
          "metadata": {}
        }
      ],
      "execution_count": 8,
      "metadata": {
        "jupyter": {
          "source_hidden": false,
          "outputs_hidden": false
        },
        "nteract": {
          "transient": {
            "deleting": false
          }
        },
        "gather": {
          "logged": 1682883652895
        },
        "collapsed": false
      }
    },
    {
      "cell_type": "markdown",
      "source": [
        "### get the input file names"
      ],
      "metadata": {
        "nteract": {
          "transient": {
            "deleting": false
          }
        }
      }
    },
    {
      "cell_type": "code",
      "source": [
        "stocks = stocks.withColumn(\"filename\", input_file_name())\r\n",
        "stocks.show(3,truncate=False)"
      ],
      "outputs": [
        {
          "output_type": "display_data",
          "data": {
            "application/vnd.livy.statement-meta+json": {
              "spark_pool": "spark1",
              "session_id": "11",
              "statement_id": 5,
              "state": "finished",
              "livy_statement_state": "available",
              "queued_time": "2023-04-30T21:02:06.3418626Z",
              "session_start_time": null,
              "execution_start_time": "2023-04-30T21:02:25.0236673Z",
              "execution_finish_time": "2023-04-30T21:02:25.6759218Z",
              "spark_jobs": null,
              "parent_msg_id": "9a5573b8-d545-463a-a8f3-f37e5971b70a"
            },
            "text/plain": "StatementMeta(spark1, 11, 5, Finished, Available)"
          },
          "metadata": {}
        },
        {
          "output_type": "stream",
          "name": "stdout",
          "text": [
            "+----------+-------------------+-------------------+-------------------+-------------------+--------------------+-------+-----------------------------------------------------------------+\n|Date      |Open               |High               |Low                |Close              |Adj Close           |Volume |filename                                                         |\n+----------+-------------------+-------------------+-------------------+-------------------+--------------------+-------+-----------------------------------------------------------------+\n|1962-01-02|0.13127270340919495|0.13127270340919495|0.12417688220739365|0.12417688220739365|0.00688728503882885 |2480300|abfss://royadlsfs@royadlsgen2.dfs.core.windows.net/stocks/HPQ.csv|\n|1962-01-03|0.12417688220739365|0.12417688220739365|0.12151595205068588|0.12284641712903976|0.006813489831984043|507300 |abfss://royadlsfs@royadlsgen2.dfs.core.windows.net/stocks/HPQ.csv|\n|1962-01-04|0.12284641712903976|0.126837819814682  |0.11796803772449493|0.120185486972332  |0.006665901280939579|845500 |abfss://royadlsfs@royadlsgen2.dfs.core.windows.net/stocks/HPQ.csv|\n+----------+-------------------+-------------------+-------------------+-------------------+--------------------+-------+-----------------------------------------------------------------+\nonly showing top 3 rows\n\n"
          ]
        }
      ],
      "execution_count": 9,
      "metadata": {
        "jupyter": {
          "source_hidden": false,
          "outputs_hidden": false
        },
        "nteract": {
          "transient": {
            "deleting": false
          }
        },
        "gather": {
          "logged": 1682883654766
        }
      }
    },
    {
      "cell_type": "code",
      "source": [
        "stocks = stocks.withColumn(\"filename\",split(col(\"filename\"), \"/\").getItem(4))\r\n",
        "stocks = stocks.withColumn(\"Symbol\",split(col(\"filename\"), '\\.').getItem(0))\r\n",
        "stocks = stocks.drop(\"filename\")\r\n",
        "display(stocks.limit(2))\r\n",
        "# stocks.limit(2).toPandas()"
      ],
      "outputs": [
        {
          "output_type": "display_data",
          "data": {
            "application/vnd.livy.statement-meta+json": {
              "spark_pool": "spark1",
              "session_id": "11",
              "statement_id": 6,
              "state": "finished",
              "livy_statement_state": "available",
              "queued_time": "2023-04-30T21:02:29.1554465Z",
              "session_start_time": null,
              "execution_start_time": "2023-04-30T21:02:29.3569747Z",
              "execution_finish_time": "2023-04-30T21:02:29.9491566Z",
              "spark_jobs": null,
              "parent_msg_id": "b3c07b24-96a9-41c9-bd9b-1e5a330eaffc"
            },
            "text/plain": "StatementMeta(spark1, 11, 6, Finished, Available)"
          },
          "metadata": {}
        },
        {
          "output_type": "display_data",
          "data": {
            "application/vnd.synapse.widget-view+json": {
              "widget_id": "442e1b2b-7484-48ff-a257-8a87d33f5420",
              "widget_type": "Synapse.DataFrame"
            },
            "text/plain": "SynapseWidget(Synapse.DataFrame, 442e1b2b-7484-48ff-a257-8a87d33f5420)"
          },
          "metadata": {}
        }
      ],
      "execution_count": 10,
      "metadata": {
        "jupyter": {
          "source_hidden": false,
          "outputs_hidden": false
        },
        "nteract": {
          "transient": {
            "deleting": false
          }
        },
        "gather": {
          "logged": 1682883682119
        },
        "collapsed": false
      }
    },
    {
      "cell_type": "markdown",
      "source": [
        "## Read the ETFs data"
      ],
      "metadata": {
        "nteract": {
          "transient": {
            "deleting": false
          }
        }
      }
    },
    {
      "cell_type": "code",
      "source": [
        "etfs = spark.read.option(\"header\",\"true\").csv(\"abfss://royadlsfs@royadlsgen2.dfs.core.windows.net/etfs/\")\r\n",
        "display(etfs.limit(3))\r\n",
        "# etfs.limit(3).toPandas()"
      ],
      "outputs": [
        {
          "output_type": "display_data",
          "data": {
            "application/vnd.livy.statement-meta+json": {
              "spark_pool": "spark1",
              "session_id": "11",
              "statement_id": 7,
              "state": "finished",
              "livy_statement_state": "available",
              "queued_time": "2023-04-30T21:02:39.7564832Z",
              "session_start_time": null,
              "execution_start_time": "2023-04-30T21:02:39.9234791Z",
              "execution_finish_time": "2023-04-30T21:02:47.0882531Z",
              "spark_jobs": null,
              "parent_msg_id": "086d39f7-a208-43bd-b7fc-493b7c8798da"
            },
            "text/plain": "StatementMeta(spark1, 11, 7, Finished, Available)"
          },
          "metadata": {}
        },
        {
          "output_type": "display_data",
          "data": {
            "application/vnd.synapse.widget-view+json": {
              "widget_id": "55a508da-1433-4a88-880c-e3d53dbba720",
              "widget_type": "Synapse.DataFrame"
            },
            "text/plain": "SynapseWidget(Synapse.DataFrame, 55a508da-1433-4a88-880c-e3d53dbba720)"
          },
          "metadata": {}
        }
      ],
      "execution_count": 11,
      "metadata": {
        "jupyter": {
          "source_hidden": false,
          "outputs_hidden": false
        },
        "nteract": {
          "transient": {
            "deleting": false
          }
        },
        "gather": {
          "logged": 1682883237939
        },
        "collapsed": false
      }
    },
    {
      "cell_type": "markdown",
      "source": [
        "### get the input file names"
      ],
      "metadata": {
        "nteract": {
          "transient": {
            "deleting": false
          }
        }
      }
    },
    {
      "cell_type": "code",
      "source": [
        "etfs = etfs.withColumn(\"filename\", input_file_name())\r\n",
        "etfs.show(3,truncate=False)"
      ],
      "outputs": [
        {
          "output_type": "display_data",
          "data": {
            "application/vnd.livy.statement-meta+json": {
              "spark_pool": "spark1",
              "session_id": "11",
              "statement_id": 8,
              "state": "finished",
              "livy_statement_state": "available",
              "queued_time": "2023-04-30T21:02:42.1003062Z",
              "session_start_time": null,
              "execution_start_time": "2023-04-30T21:02:47.2679122Z",
              "execution_finish_time": "2023-04-30T21:02:47.4610713Z",
              "spark_jobs": null,
              "parent_msg_id": "d640c807-0252-4631-9d9e-2a21f724761e"
            },
            "text/plain": "StatementMeta(spark1, 11, 8, Finished, Available)"
          },
          "metadata": {}
        },
        {
          "output_type": "stream",
          "name": "stdout",
          "text": [
            "+----------+----+-----+------+-----+-----------------+------+---------------------------------------------------------------+\n|Date      |Open|High |Low   |Close|Adj Close        |Volume|filename                                                       |\n+----------+----+-----+------+-----+-----------------+------+---------------------------------------------------------------+\n|1986-04-03|0.0 |4.75 |4.625 |4.625|4.449552059173584|15300 |abfss://royadlsfs@royadlsgen2.dfs.core.windows.net/etfs/CEF.csv|\n|1986-04-04|0.0 |4.75 |4.6875|4.75 |4.56981086730957 |12000 |abfss://royadlsfs@royadlsgen2.dfs.core.windows.net/etfs/CEF.csv|\n|1986-04-07|0.0 |4.875|4.75  |4.75 |4.56981086730957 |11500 |abfss://royadlsfs@royadlsgen2.dfs.core.windows.net/etfs/CEF.csv|\n+----------+----+-----+------+-----+-----------------+------+---------------------------------------------------------------+\nonly showing top 3 rows\n\n"
          ]
        }
      ],
      "execution_count": 12,
      "metadata": {
        "jupyter": {
          "source_hidden": false,
          "outputs_hidden": false
        },
        "nteract": {
          "transient": {
            "deleting": false
          }
        },
        "gather": {
          "logged": 1682883239906
        }
      }
    },
    {
      "cell_type": "code",
      "source": [
        "etfs = etfs.withColumn(\"filename\",split(col(\"filename\"), \"/\").getItem(4))\r\n",
        "etfs = etfs.withColumn(\"Symbol\",split(col(\"filename\"), '\\.').getItem(0))\r\n",
        "etfs = etfs.drop(\"filename\")\r\n",
        "display(etfs.limit(2))\r\n",
        "# etfs.limit(2).toPandas()"
      ],
      "outputs": [
        {
          "output_type": "display_data",
          "data": {
            "application/vnd.livy.statement-meta+json": {
              "spark_pool": "spark1",
              "session_id": "11",
              "statement_id": 9,
              "state": "finished",
              "livy_statement_state": "available",
              "queued_time": "2023-04-30T21:02:49.5372267Z",
              "session_start_time": null,
              "execution_start_time": "2023-04-30T21:02:49.6953665Z",
              "execution_finish_time": "2023-04-30T21:02:50.4249889Z",
              "spark_jobs": null,
              "parent_msg_id": "549c1e8e-9151-4a50-9cb8-b238242f1083"
            },
            "text/plain": "StatementMeta(spark1, 11, 9, Finished, Available)"
          },
          "metadata": {}
        },
        {
          "output_type": "display_data",
          "data": {
            "application/vnd.synapse.widget-view+json": {
              "widget_id": "4fb93d27-a1b4-4a31-b2d2-b19786e55c05",
              "widget_type": "Synapse.DataFrame"
            },
            "text/plain": "SynapseWidget(Synapse.DataFrame, 4fb93d27-a1b4-4a31-b2d2-b19786e55c05)"
          },
          "metadata": {}
        }
      ],
      "execution_count": 13,
      "metadata": {
        "jupyter": {
          "source_hidden": false,
          "outputs_hidden": false
        },
        "nteract": {
          "transient": {
            "deleting": false
          }
        },
        "gather": {
          "logged": 1682883251198
        },
        "collapsed": false
      }
    },
    {
      "cell_type": "markdown",
      "source": [
        "## Bring the data together and save to parquet"
      ],
      "metadata": {
        "nteract": {
          "transient": {
            "deleting": false
          }
        }
      }
    },
    {
      "cell_type": "code",
      "source": [
        "df = stocks.unionAll(etfs).dropDuplicates()"
      ],
      "outputs": [
        {
          "output_type": "display_data",
          "data": {
            "application/vnd.livy.statement-meta+json": {
              "spark_pool": "spark1",
              "session_id": "11",
              "statement_id": 10,
              "state": "finished",
              "livy_statement_state": "available",
              "queued_time": "2023-04-30T21:02:53.7449764Z",
              "session_start_time": null,
              "execution_start_time": "2023-04-30T21:02:53.9151989Z",
              "execution_finish_time": "2023-04-30T21:02:54.120649Z",
              "spark_jobs": null,
              "parent_msg_id": "233dcc49-c152-44cc-98d7-d3c28c409dce"
            },
            "text/plain": "StatementMeta(spark1, 11, 10, Finished, Available)"
          },
          "metadata": {}
        }
      ],
      "execution_count": 14,
      "metadata": {
        "jupyter": {
          "source_hidden": false,
          "outputs_hidden": false
        },
        "nteract": {
          "transient": {
            "deleting": false
          }
        },
        "gather": {
          "logged": 1682883682577
        }
      }
    },
    {
      "cell_type": "code",
      "source": [
        "# print(stocks.count())\r\n",
        "# print(etfs.count())\r\n",
        "# print(df.count())"
      ],
      "outputs": [
        {
          "output_type": "display_data",
          "data": {
            "application/vnd.livy.statement-meta+json": {
              "spark_pool": "fc2621f8-0e70-4acd-8413-258a265242a7",
              "session_id": "5",
              "statement_id": 15,
              "state": "finished",
              "livy_statement_state": "available",
              "queued_time": "2023-04-30T18:03:37.0166867Z",
              "session_start_time": null,
              "execution_start_time": "2023-04-30T18:05:55.4081161Z",
              "execution_finish_time": "2023-04-30T18:45:04.6622417Z",
              "spark_jobs": {
                "numbers": {
                  "UNKNOWN": 0,
                  "RUNNING": 0,
                  "FAILED": 0,
                  "SUCCEEDED": 7
                },
                "jobs": [
                  {
                    "dataWritten": 0,
                    "dataRead": 2360,
                    "rowCount": 40,
                    "jobId": 21,
                    "name": "count at NativeMethodAccessorImpl.java:0",
                    "description": "Job group for statement 15:\nprint(stocks.count())\nprint(etfs.count())\nprint(df.count())",
                    "submissionTime": "2023-04-30T18:45:03.879GMT",
                    "completionTime": "2023-04-30T18:45:03.979GMT",
                    "stageIds": [
                      30,
                      31,
                      29
                    ],
                    "jobGroup": "15",
                    "status": "SUCCEEDED",
                    "numTasks": 310,
                    "numActiveTasks": 0,
                    "numCompletedTasks": 1,
                    "numSkippedTasks": 309,
                    "numFailedTasks": 0,
                    "numKilledTasks": 0,
                    "numCompletedIndices": 1,
                    "numActiveStages": 0,
                    "numCompletedStages": 1,
                    "numSkippedStages": 2,
                    "numFailedStages": 0,
                    "killedTasksSummary": {}
                  },
                  {
                    "dataWritten": 2360,
                    "dataRead": 2140604682,
                    "rowCount": 28135264,
                    "jobId": 20,
                    "name": "count at NativeMethodAccessorImpl.java:0",
                    "description": "Job group for statement 15:\nprint(stocks.count())\nprint(etfs.count())\nprint(df.count())",
                    "submissionTime": "2023-04-30T18:44:53.872GMT",
                    "completionTime": "2023-04-30T18:45:03.793GMT",
                    "stageIds": [
                      27,
                      28
                    ],
                    "jobGroup": "15",
                    "status": "SUCCEEDED",
                    "numTasks": 309,
                    "numActiveTasks": 0,
                    "numCompletedTasks": 40,
                    "numSkippedTasks": 269,
                    "numFailedTasks": 0,
                    "numKilledTasks": 0,
                    "numCompletedIndices": 40,
                    "numActiveStages": 0,
                    "numCompletedStages": 1,
                    "numSkippedStages": 1,
                    "numFailedStages": 0,
                    "killedTasksSummary": {}
                  },
                  {
                    "dataWritten": 2140604682,
                    "dataRead": 2747223384,
                    "rowCount": 56283592,
                    "jobId": 19,
                    "name": "count at NativeMethodAccessorImpl.java:0",
                    "description": "Job group for statement 15:\nprint(stocks.count())\nprint(etfs.count())\nprint(df.count())",
                    "submissionTime": "2023-04-30T18:29:01.921GMT",
                    "completionTime": "2023-04-30T18:44:53.683GMT",
                    "stageIds": [
                      26
                    ],
                    "jobGroup": "15",
                    "status": "SUCCEEDED",
                    "numTasks": 269,
                    "numActiveTasks": 0,
                    "numCompletedTasks": 269,
                    "numSkippedTasks": 0,
                    "numFailedTasks": 0,
                    "numKilledTasks": 0,
                    "numCompletedIndices": 269,
                    "numActiveStages": 0,
                    "numCompletedStages": 1,
                    "numSkippedStages": 0,
                    "numFailedStages": 0,
                    "killedTasksSummary": {}
                  },
                  {
                    "dataWritten": 0,
                    "dataRead": 4130,
                    "rowCount": 70,
                    "jobId": 18,
                    "name": "count at NativeMethodAccessorImpl.java:0",
                    "description": "Job group for statement 15:\nprint(stocks.count())\nprint(etfs.count())\nprint(df.count())",
                    "submissionTime": "2023-04-30T18:29:01.120GMT",
                    "completionTime": "2023-04-30T18:29:01.248GMT",
                    "stageIds": [
                      24,
                      25
                    ],
                    "jobGroup": "15",
                    "status": "SUCCEEDED",
                    "numTasks": 71,
                    "numActiveTasks": 0,
                    "numCompletedTasks": 1,
                    "numSkippedTasks": 70,
                    "numFailedTasks": 0,
                    "numKilledTasks": 0,
                    "numCompletedIndices": 1,
                    "numActiveStages": 0,
                    "numCompletedStages": 1,
                    "numSkippedStages": 1,
                    "numFailedStages": 0,
                    "killedTasksSummary": {}
                  },
                  {
                    "dataWritten": 4130,
                    "dataRead": 416557962,
                    "rowCount": 3950996,
                    "jobId": 17,
                    "name": "count at NativeMethodAccessorImpl.java:0",
                    "description": "Job group for statement 15:\nprint(stocks.count())\nprint(etfs.count())\nprint(df.count())",
                    "submissionTime": "2023-04-30T18:21:35.624GMT",
                    "completionTime": "2023-04-30T18:29:01.062GMT",
                    "stageIds": [
                      23
                    ],
                    "jobGroup": "15",
                    "status": "SUCCEEDED",
                    "numTasks": 70,
                    "numActiveTasks": 0,
                    "numCompletedTasks": 70,
                    "numSkippedTasks": 0,
                    "numFailedTasks": 0,
                    "numKilledTasks": 0,
                    "numCompletedIndices": 70,
                    "numActiveStages": 0,
                    "numCompletedStages": 1,
                    "numSkippedStages": 0,
                    "numFailedStages": 0,
                    "killedTasksSummary": {}
                  },
                  {
                    "dataWritten": 0,
                    "dataRead": 11740,
                    "rowCount": 199,
                    "jobId": 16,
                    "name": "count at NativeMethodAccessorImpl.java:0",
                    "description": "Job group for statement 15:\nprint(stocks.count())\nprint(etfs.count())\nprint(df.count())",
                    "submissionTime": "2023-04-30T18:21:35.243GMT",
                    "completionTime": "2023-04-30T18:21:35.442GMT",
                    "stageIds": [
                      21,
                      22
                    ],
                    "jobGroup": "15",
                    "status": "SUCCEEDED",
                    "numTasks": 200,
                    "numActiveTasks": 0,
                    "numCompletedTasks": 1,
                    "numSkippedTasks": 199,
                    "numFailedTasks": 0,
                    "numKilledTasks": 0,
                    "numCompletedIndices": 1,
                    "numActiveStages": 0,
                    "numCompletedStages": 1,
                    "numSkippedStages": 1,
                    "numFailedStages": 0,
                    "killedTasksSummary": {}
                  },
                  {
                    "dataWritten": 11740,
                    "dataRead": 2330665422,
                    "rowCount": 24197641,
                    "jobId": 15,
                    "name": "count at NativeMethodAccessorImpl.java:0",
                    "description": "Job group for statement 15:\nprint(stocks.count())\nprint(etfs.count())\nprint(df.count())",
                    "submissionTime": "2023-04-30T18:05:55.792GMT",
                    "completionTime": "2023-04-30T18:21:35.171GMT",
                    "stageIds": [
                      20
                    ],
                    "jobGroup": "15",
                    "status": "SUCCEEDED",
                    "numTasks": 199,
                    "numActiveTasks": 0,
                    "numCompletedTasks": 199,
                    "numSkippedTasks": 0,
                    "numFailedTasks": 0,
                    "numKilledTasks": 0,
                    "numCompletedIndices": 199,
                    "numActiveStages": 0,
                    "numCompletedStages": 1,
                    "numSkippedStages": 0,
                    "numFailedStages": 0,
                    "killedTasksSummary": {}
                  }
                ],
                "limit": 20,
                "rule": "ALL_DESC"
              },
              "parent_msg_id": "77534b1f-229b-4b81-a859-0fe3d67e712f"
            },
            "text/plain": "StatementMeta(fc2621f8-0e70-4acd-8413-258a265242a7, 5, 15, Finished, Available)"
          },
          "metadata": {}
        },
        {
          "output_type": "stream",
          "name": "stdout",
          "text": [
            "24197442\n3950926\n28118125\n"
          ]
        }
      ],
      "execution_count": 10,
      "metadata": {
        "jupyter": {
          "source_hidden": false,
          "outputs_hidden": false
        },
        "nteract": {
          "transient": {
            "deleting": false
          }
        },
        "gather": {
          "logged": 1682880304036
        }
      }
    },
    {
      "cell_type": "code",
      "source": [
        "c = meta.select(\"Symbol\",\"Security Name\").distinct()\r\n",
        "# c.show(2)"
      ],
      "outputs": [
        {
          "output_type": "display_data",
          "data": {
            "application/vnd.livy.statement-meta+json": {
              "spark_pool": "spark1",
              "session_id": "11",
              "statement_id": 11,
              "state": "finished",
              "livy_statement_state": "available",
              "queued_time": "2023-04-30T21:03:06.4240982Z",
              "session_start_time": null,
              "execution_start_time": "2023-04-30T21:03:06.6402933Z",
              "execution_finish_time": "2023-04-30T21:03:06.8776846Z",
              "spark_jobs": null,
              "parent_msg_id": "ad507bd2-3de0-471b-a695-a52bd4d2967c"
            },
            "text/plain": "StatementMeta(spark1, 11, 11, Finished, Available)"
          },
          "metadata": {}
        }
      ],
      "execution_count": 15,
      "metadata": {
        "jupyter": {
          "source_hidden": false,
          "outputs_hidden": false
        },
        "nteract": {
          "transient": {
            "deleting": false
          }
        },
        "gather": {
          "logged": 1682883684593
        }
      }
    },
    {
      "cell_type": "code",
      "source": [
        "df = df.join(c,on=\"Symbol\")"
      ],
      "outputs": [
        {
          "output_type": "display_data",
          "data": {
            "application/vnd.livy.statement-meta+json": {
              "spark_pool": "spark1",
              "session_id": "11",
              "statement_id": 12,
              "state": "finished",
              "livy_statement_state": "available",
              "queued_time": "2023-04-30T21:03:10.918826Z",
              "session_start_time": null,
              "execution_start_time": "2023-04-30T21:03:11.0735602Z",
              "execution_finish_time": "2023-04-30T21:03:11.2842545Z",
              "spark_jobs": null,
              "parent_msg_id": "1854de10-37b9-4fb1-9d10-ad22f34ac756"
            },
            "text/plain": "StatementMeta(spark1, 11, 12, Finished, Available)"
          },
          "metadata": {}
        }
      ],
      "execution_count": 16,
      "metadata": {
        "jupyter": {
          "source_hidden": false,
          "outputs_hidden": false
        },
        "nteract": {
          "transient": {
            "deleting": false
          }
        },
        "gather": {
          "logged": 1682884757855
        }
      }
    },
    {
      "cell_type": "code",
      "source": [
        "df.printSchema()"
      ],
      "outputs": [
        {
          "output_type": "display_data",
          "data": {
            "application/vnd.livy.statement-meta+json": {
              "spark_pool": "spark1",
              "session_id": "11",
              "statement_id": 13,
              "state": "finished",
              "livy_statement_state": "available",
              "queued_time": "2023-04-30T21:03:12.8286072Z",
              "session_start_time": null,
              "execution_start_time": "2023-04-30T21:03:13.0003256Z",
              "execution_finish_time": "2023-04-30T21:03:13.1803372Z",
              "spark_jobs": null,
              "parent_msg_id": "cdffa47d-ec14-4e7d-b0d5-63ea74eeb594"
            },
            "text/plain": "StatementMeta(spark1, 11, 13, Finished, Available)"
          },
          "metadata": {}
        },
        {
          "output_type": "stream",
          "name": "stdout",
          "text": [
            "root\n |-- Symbol: string (nullable = true)\n |-- Date: string (nullable = true)\n |-- Open: string (nullable = true)\n |-- High: string (nullable = true)\n |-- Low: string (nullable = true)\n |-- Close: string (nullable = true)\n |-- Adj Close: string (nullable = true)\n |-- Volume: string (nullable = true)\n |-- Security Name: string (nullable = true)\n\n"
          ]
        }
      ],
      "execution_count": 17,
      "metadata": {
        "jupyter": {
          "source_hidden": false,
          "outputs_hidden": false
        },
        "nteract": {
          "transient": {
            "deleting": false
          }
        },
        "gather": {
          "logged": 1682884761021
        }
      }
    },
    {
      "cell_type": "markdown",
      "source": [
        "### Cast string to double"
      ],
      "metadata": {
        "nteract": {
          "transient": {
            "deleting": false
          }
        }
      }
    },
    {
      "cell_type": "code",
      "source": [
        "df2 = df.withColumn(\"Symbol\",col('Symbol'))\\\r\n",
        "        .withColumn(\"Date\",col('Date'))\\\r\n",
        "        .withColumnRenamed(\"Security Name\",'Security_Name')\\\r\n",
        "        .withColumn(\"Open\",col('Open').cast(DoubleType()))\\\r\n",
        "        .withColumn(\"High\",col('High').cast(DoubleType()))\\\r\n",
        "        .withColumn(\"Low\",col('Low').cast(DoubleType()))\\\r\n",
        "        .withColumn(\"Close\",col('Close').cast(DoubleType()))\\\r\n",
        "        .withColumn(\"Adj_Close\",col('Adj Close').cast(DoubleType())).drop(\"Adj Close\")\\\r\n",
        "        .withColumn(\"Volume\",col('Volume').cast(DoubleType()))\r\n",
        "display(df2.limit(3))\r\n",
        "# df2.limit(3).toPandas()"
      ],
      "outputs": [
        {
          "output_type": "display_data",
          "data": {
            "application/vnd.livy.statement-meta+json": {
              "spark_pool": "spark1",
              "session_id": "11",
              "statement_id": 15,
              "state": "finished",
              "livy_statement_state": "available",
              "queued_time": "2023-04-30T21:03:36.8949863Z",
              "session_start_time": null,
              "execution_start_time": "2023-04-30T21:03:37.1348082Z",
              "execution_finish_time": "2023-04-30T21:04:50.950559Z",
              "spark_jobs": null,
              "parent_msg_id": "e9f20426-8931-4f6d-b6cc-4bfe925214da"
            },
            "text/plain": "StatementMeta(spark1, 11, 15, Finished, Available)"
          },
          "metadata": {}
        },
        {
          "output_type": "display_data",
          "data": {
            "application/vnd.synapse.widget-view+json": {
              "widget_id": "243b31e0-a185-4180-93ef-c56b0b9ba9c4",
              "widget_type": "Synapse.DataFrame"
            },
            "text/plain": "SynapseWidget(Synapse.DataFrame, 243b31e0-a185-4180-93ef-c56b0b9ba9c4)"
          },
          "metadata": {}
        }
      ],
      "execution_count": 19,
      "metadata": {
        "jupyter": {
          "source_hidden": false,
          "outputs_hidden": false
        },
        "nteract": {
          "transient": {
            "deleting": false
          }
        },
        "gather": {
          "logged": 1682884771080
        },
        "collapsed": false
      }
    },
    {
      "cell_type": "code",
      "source": [
        "df2.write.mode(\"overwrite\").parquet(\"abfss://royadlsfs@royadlsgen2.dfs.core.windows.net/landing/nasdaq.parquet\")"
      ],
      "outputs": [
        {
          "output_type": "display_data",
          "data": {
            "application/vnd.livy.statement-meta+json": {
              "spark_pool": "spark1",
              "session_id": "11",
              "statement_id": 16,
              "state": "finished",
              "livy_statement_state": "available",
              "queued_time": "2023-04-30T21:06:32.9036129Z",
              "session_start_time": null,
              "execution_start_time": "2023-04-30T21:06:33.1134579Z",
              "execution_finish_time": "2023-04-30T21:08:07.4856506Z",
              "spark_jobs": null,
              "parent_msg_id": "fcd25908-5617-4ce2-badf-242a37d57b5d"
            },
            "text/plain": "StatementMeta(spark1, 11, 16, Finished, Available)"
          },
          "metadata": {}
        }
      ],
      "execution_count": 20,
      "metadata": {
        "jupyter": {
          "source_hidden": false,
          "outputs_hidden": false
        },
        "nteract": {
          "transient": {
            "deleting": false
          }
        },
        "gather": {
          "logged": 1682886274844
        }
      }
    },
    {
      "cell_type": "markdown",
      "source": [
        "## Read the nasdaq.parquet and create features"
      ],
      "metadata": {
        "nteract": {
          "transient": {
            "deleting": false
          }
        }
      }
    },
    {
      "cell_type": "code",
      "source": [
        "df = spark.read.parquet(\"abfss://royadlsfs@royadlsgen2.dfs.core.windows.net/landing/nasdaq.parquet\").orderBy(\"Symbol\",\"Date\")\r\n",
        "# display(df.limit(5))\r\n",
        "df.limit(5).toPandas()"
      ],
      "outputs": [
        {
          "output_type": "display_data",
          "data": {
            "application/vnd.livy.statement-meta+json": {
              "spark_pool": "spark1",
              "session_id": "11",
              "statement_id": 17,
              "state": "finished",
              "livy_statement_state": "available",
              "queued_time": "2023-04-30T21:09:12.6548611Z",
              "session_start_time": null,
              "execution_start_time": "2023-04-30T21:09:12.8936877Z",
              "execution_finish_time": "2023-04-30T21:09:30.1870612Z",
              "spark_jobs": null,
              "parent_msg_id": "278b1bdd-c311-4171-9abc-3c03d8ccc41e"
            },
            "text/plain": "StatementMeta(spark1, 11, 17, Finished, Available)"
          },
          "metadata": {}
        },
        {
          "output_type": "execute_result",
          "execution_count": 35,
          "data": {
            "text/plain": "  Symbol        Date       Open       High        Low      Close      Volume  \\\n0      A  1999-11-18  32.546494  35.765381  28.612303  31.473534  62546300.0   \n1      A  1999-11-19  30.713520  30.758226  28.478184  28.880543  15234100.0   \n2      A  1999-11-22  29.551144  31.473534  28.657009  31.473534   6577800.0   \n3      A  1999-11-23  30.400572  31.205294  28.612303  28.612303   5975600.0   \n4      A  1999-11-24  28.701717  29.998211  28.612303  29.372318   4843200.0   \n\n                             Security_Name  Adj_Close  \n0  Agilent Technologies, Inc. Common Stock  27.068665  \n1  Agilent Technologies, Inc. Common Stock  24.838577  \n2  Agilent Technologies, Inc. Common Stock  27.068665  \n3  Agilent Technologies, Inc. Common Stock  24.607880  \n4  Agilent Technologies, Inc. Common Stock  25.261524  ",
            "text/html": "<div>\n<style scoped>\n    .dataframe tbody tr th:only-of-type {\n        vertical-align: middle;\n    }\n\n    .dataframe tbody tr th {\n        vertical-align: top;\n    }\n\n    .dataframe thead th {\n        text-align: right;\n    }\n</style>\n<table border=\"1\" class=\"dataframe\">\n  <thead>\n    <tr style=\"text-align: right;\">\n      <th></th>\n      <th>Symbol</th>\n      <th>Date</th>\n      <th>Open</th>\n      <th>High</th>\n      <th>Low</th>\n      <th>Close</th>\n      <th>Volume</th>\n      <th>Security_Name</th>\n      <th>Adj_Close</th>\n    </tr>\n  </thead>\n  <tbody>\n    <tr>\n      <th>0</th>\n      <td>A</td>\n      <td>1999-11-18</td>\n      <td>32.546494</td>\n      <td>35.765381</td>\n      <td>28.612303</td>\n      <td>31.473534</td>\n      <td>62546300.0</td>\n      <td>Agilent Technologies, Inc. Common Stock</td>\n      <td>27.068665</td>\n    </tr>\n    <tr>\n      <th>1</th>\n      <td>A</td>\n      <td>1999-11-19</td>\n      <td>30.713520</td>\n      <td>30.758226</td>\n      <td>28.478184</td>\n      <td>28.880543</td>\n      <td>15234100.0</td>\n      <td>Agilent Technologies, Inc. Common Stock</td>\n      <td>24.838577</td>\n    </tr>\n    <tr>\n      <th>2</th>\n      <td>A</td>\n      <td>1999-11-22</td>\n      <td>29.551144</td>\n      <td>31.473534</td>\n      <td>28.657009</td>\n      <td>31.473534</td>\n      <td>6577800.0</td>\n      <td>Agilent Technologies, Inc. Common Stock</td>\n      <td>27.068665</td>\n    </tr>\n    <tr>\n      <th>3</th>\n      <td>A</td>\n      <td>1999-11-23</td>\n      <td>30.400572</td>\n      <td>31.205294</td>\n      <td>28.612303</td>\n      <td>28.612303</td>\n      <td>5975600.0</td>\n      <td>Agilent Technologies, Inc. Common Stock</td>\n      <td>24.607880</td>\n    </tr>\n    <tr>\n      <th>4</th>\n      <td>A</td>\n      <td>1999-11-24</td>\n      <td>28.701717</td>\n      <td>29.998211</td>\n      <td>28.612303</td>\n      <td>29.372318</td>\n      <td>4843200.0</td>\n      <td>Agilent Technologies, Inc. Common Stock</td>\n      <td>25.261524</td>\n    </tr>\n  </tbody>\n</table>\n</div>"
          },
          "metadata": {}
        }
      ],
      "execution_count": 21,
      "metadata": {
        "jupyter": {
          "source_hidden": false,
          "outputs_hidden": false
        },
        "nteract": {
          "transient": {
            "deleting": false
          }
        },
        "collapsed": false
      }
    },
    {
      "cell_type": "code",
      "source": [
        "df.printSchema()"
      ],
      "outputs": [
        {
          "output_type": "display_data",
          "data": {
            "application/vnd.livy.statement-meta+json": {
              "spark_pool": "spark1",
              "session_id": "11",
              "statement_id": 18,
              "state": "finished",
              "livy_statement_state": "available",
              "queued_time": "2023-04-30T21:09:36.0685385Z",
              "session_start_time": null,
              "execution_start_time": "2023-04-30T21:09:36.2398778Z",
              "execution_finish_time": "2023-04-30T21:09:36.4136319Z",
              "spark_jobs": null,
              "parent_msg_id": "63964b51-0bf5-4a79-8a99-436f2178e2c5"
            },
            "text/plain": "StatementMeta(spark1, 11, 18, Finished, Available)"
          },
          "metadata": {}
        },
        {
          "output_type": "stream",
          "name": "stdout",
          "text": [
            "root\n |-- Symbol: string (nullable = true)\n |-- Date: string (nullable = true)\n |-- Open: double (nullable = true)\n |-- High: double (nullable = true)\n |-- Low: double (nullable = true)\n |-- Close: double (nullable = true)\n |-- Volume: double (nullable = true)\n |-- Security_Name: string (nullable = true)\n |-- Adj_Close: double (nullable = true)\n\n"
          ]
        }
      ],
      "execution_count": 22,
      "metadata": {
        "jupyter": {
          "source_hidden": false,
          "outputs_hidden": false
        },
        "nteract": {
          "transient": {
            "deleting": false
          }
        }
      }
    },
    {
      "cell_type": "code",
      "source": [
        "# df = df.withColumn(\"Date\",to_timestamp(col('Date'),'yyyy-MM-dd'))"
      ],
      "outputs": [
        {
          "output_type": "display_data",
          "data": {
            "application/vnd.livy.statement-meta+json": {
              "spark_pool": "spark1",
              "session_id": "8",
              "statement_id": 63,
              "state": "finished",
              "livy_statement_state": "available",
              "queued_time": "2023-04-30T06:13:52.6099334Z",
              "session_start_time": null,
              "execution_start_time": "2023-04-30T06:13:54.4692889Z",
              "execution_finish_time": "2023-04-30T06:13:54.6491621Z",
              "spark_jobs": null,
              "parent_msg_id": "918adbec-4ad1-4756-abd0-56c9afab4b96"
            },
            "text/plain": "StatementMeta(spark1, 8, 63, Finished, Available)"
          },
          "metadata": {}
        }
      ],
      "execution_count": 62,
      "metadata": {
        "jupyter": {
          "source_hidden": false,
          "outputs_hidden": false
        },
        "nteract": {
          "transient": {
            "deleting": false
          }
        }
      }
    },
    {
      "cell_type": "markdown",
      "source": [
        "### Set Window config and create udf to calculate median"
      ],
      "metadata": {
        "nteract": {
          "transient": {
            "deleting": false
          }
        }
      }
    },
    {
      "cell_type": "code",
      "source": [
        "w = (Window.partitionBy(\"Symbol\").orderBy(to_timestamp(col('Date'),'yyyy-MM-dd').cast('long')).rangeBetween(-30, 0))\r\n",
        "median_udf = udf(lambda x: float(np.median(x)), FloatType())"
      ],
      "outputs": [
        {
          "output_type": "display_data",
          "data": {
            "application/vnd.livy.statement-meta+json": {
              "spark_pool": "spark1",
              "session_id": "11",
              "statement_id": 19,
              "state": "finished",
              "livy_statement_state": "available",
              "queued_time": "2023-04-30T21:10:23.7983179Z",
              "session_start_time": null,
              "execution_start_time": "2023-04-30T21:10:23.9800276Z",
              "execution_finish_time": "2023-04-30T21:10:24.1691119Z",
              "spark_jobs": null,
              "parent_msg_id": "db6cb0e7-3ab6-416f-9080-e727654efe7b"
            },
            "text/plain": "StatementMeta(spark1, 11, 19, Finished, Available)"
          },
          "metadata": {}
        }
      ],
      "execution_count": 23,
      "metadata": {
        "jupyter": {
          "source_hidden": false,
          "outputs_hidden": false
        },
        "nteract": {
          "transient": {
            "deleting": false
          }
        }
      }
    },
    {
      "cell_type": "markdown",
      "source": [
        "### Calculate Rolling Median"
      ],
      "metadata": {
        "nteract": {
          "transient": {
            "deleting": false
          }
        }
      }
    },
    {
      "cell_type": "code",
      "source": [
        "df = df.withColumn(\"list\", collect_list(\"Volume\").over(w)) \\\r\n",
        "  .withColumn(\"rolling_median\", median_udf(\"list\")).drop(\"list\")\r\n",
        "df.show(2,truncate = False)"
      ],
      "outputs": [
        {
          "output_type": "display_data",
          "data": {
            "application/vnd.livy.statement-meta+json": {
              "spark_pool": "spark1",
              "session_id": "11",
              "statement_id": 20,
              "state": "finished",
              "livy_statement_state": "available",
              "queued_time": "2023-04-30T21:10:27.7315739Z",
              "session_start_time": null,
              "execution_start_time": "2023-04-30T21:10:27.9726175Z",
              "execution_finish_time": "2023-04-30T21:11:01.877624Z",
              "spark_jobs": null,
              "parent_msg_id": "6dd79d70-ddcb-4bce-8fe0-536dccc28bd1"
            },
            "text/plain": "StatementMeta(spark1, 11, 20, Finished, Available)"
          },
          "metadata": {}
        },
        {
          "output_type": "stream",
          "name": "stdout",
          "text": [
            "+------+----------+------------------+------------------+-----------------+------------------+---------+----------------------------------------+------------------+--------------+\n|Symbol|Date      |Open              |High              |Low              |Close             |Volume   |Security_Name                           |Adj_Close         |rolling_median|\n+------+----------+------------------+------------------+-----------------+------------------+---------+----------------------------------------+------------------+--------------+\n|AAT   |2011-01-13|21.530000686645508|22.0              |21.18000030517578|21.25             |1.55369E7|American Assets Trust, Inc. Common Stock|16.332218170166016|1.55369E7     |\n|AAT   |2011-01-14|21.15999984741211 |21.450000762939453|21.15999984741211|21.309999465942383|1304800.0|American Assets Trust, Inc. Common Stock|16.378332138061523|1304800.0     |\n+------+----------+------------------+------------------+-----------------+------------------+---------+----------------------------------------+------------------+--------------+\nonly showing top 2 rows\n\n"
          ]
        }
      ],
      "execution_count": 24,
      "metadata": {
        "jupyter": {
          "source_hidden": false,
          "outputs_hidden": false
        },
        "nteract": {
          "transient": {
            "deleting": false
          }
        }
      }
    },
    {
      "cell_type": "markdown",
      "source": [
        "### Calculate Rolling Mean"
      ],
      "metadata": {
        "nteract": {
          "transient": {
            "deleting": false
          }
        }
      }
    },
    {
      "cell_type": "code",
      "source": [
        "df = df.withColumn('rolling_average', avg(\"Volume\").over(w))\r\n",
        "df.show(2,truncate = False)"
      ],
      "outputs": [
        {
          "output_type": "display_data",
          "data": {
            "application/vnd.livy.statement-meta+json": {
              "spark_pool": "spark1",
              "session_id": "11",
              "statement_id": 21,
              "state": "finished",
              "livy_statement_state": "available",
              "queued_time": "2023-04-30T21:11:18.3016079Z",
              "session_start_time": null,
              "execution_start_time": "2023-04-30T21:11:18.50043Z",
              "execution_finish_time": "2023-04-30T21:11:44.0519669Z",
              "spark_jobs": null,
              "parent_msg_id": "fe2827c1-d88a-4eb2-ab44-0a0a39dee521"
            },
            "text/plain": "StatementMeta(spark1, 11, 21, Finished, Available)"
          },
          "metadata": {}
        },
        {
          "output_type": "stream",
          "name": "stdout",
          "text": [
            "+------+----------+------------------+------------------+-----------------+------------------+---------+----------------------------------------+------------------+--------------+---------------+\n|Symbol|Date      |Open              |High              |Low              |Close             |Volume   |Security_Name                           |Adj_Close         |rolling_median|rolling_average|\n+------+----------+------------------+------------------+-----------------+------------------+---------+----------------------------------------+------------------+--------------+---------------+\n|AAT   |2011-01-13|21.530000686645508|22.0              |21.18000030517578|21.25             |1.55369E7|American Assets Trust, Inc. Common Stock|16.332218170166016|1.55369E7     |1.55369E7      |\n|AAT   |2011-01-14|21.15999984741211 |21.450000762939453|21.15999984741211|21.309999465942383|1304800.0|American Assets Trust, Inc. Common Stock|16.378332138061523|1304800.0     |1304800.0      |\n+------+----------+------------------+------------------+-----------------+------------------+---------+----------------------------------------+------------------+--------------+---------------+\nonly showing top 2 rows\n\n"
          ]
        }
      ],
      "execution_count": 25,
      "metadata": {
        "jupyter": {
          "source_hidden": false,
          "outputs_hidden": false
        },
        "nteract": {
          "transient": {
            "deleting": false
          }
        }
      }
    },
    {
      "cell_type": "markdown",
      "source": [
        "### Write to parquet in staging bucket"
      ],
      "metadata": {
        "nteract": {
          "transient": {
            "deleting": false
          }
        }
      }
    },
    {
      "cell_type": "code",
      "source": [
        "df.write.mode(\"overwrite\").parquet(\"abfss://royadlsfs@royadlsgen2.dfs.core.windows.net/staging/nasdaq_fe.parquet\")"
      ],
      "outputs": [
        {
          "output_type": "display_data",
          "data": {
            "application/vnd.livy.statement-meta+json": {
              "spark_pool": "spark1",
              "session_id": "11",
              "statement_id": 23,
              "state": "finished",
              "livy_statement_state": "available",
              "queued_time": "2023-04-30T21:14:08.5402066Z",
              "session_start_time": null,
              "execution_start_time": "2023-04-30T21:14:08.7303935Z",
              "execution_finish_time": "2023-04-30T21:17:10.4891079Z",
              "spark_jobs": null,
              "parent_msg_id": "0957506f-3254-4b46-983d-72727e9ad1a4"
            },
            "text/plain": "StatementMeta(spark1, 11, 23, Finished, Available)"
          },
          "metadata": {}
        }
      ],
      "execution_count": 27,
      "metadata": {
        "jupyter": {
          "source_hidden": false,
          "outputs_hidden": false
        },
        "nteract": {
          "transient": {
            "deleting": false
          }
        }
      }
    },
    {
      "cell_type": "code",
      "source": [
        "# df.orderBy(\"Symbol\",\"Date\").show(30)"
      ],
      "outputs": [
        {
          "output_type": "display_data",
          "data": {
            "application/vnd.livy.statement-meta+json": {
              "spark_pool": "spark1",
              "session_id": "11",
              "statement_id": 24,
              "state": "finished",
              "livy_statement_state": "available",
              "queued_time": "2023-04-30T21:17:20.4476901Z",
              "session_start_time": null,
              "execution_start_time": "2023-04-30T21:17:20.6328934Z",
              "execution_finish_time": "2023-04-30T21:17:20.8160164Z",
              "spark_jobs": null,
              "parent_msg_id": "015c7e31-437f-44a8-a1be-2a0cfe53e10e"
            },
            "text/plain": "StatementMeta(spark1, 11, 24, Finished, Available)"
          },
          "metadata": {}
        }
      ],
      "execution_count": 28,
      "metadata": {
        "jupyter": {
          "source_hidden": false,
          "outputs_hidden": false
        },
        "nteract": {
          "transient": {
            "deleting": false
          }
        }
      }
    }
  ],
  "metadata": {
    "kernelspec": {
      "name": "synapse_pyspark",
      "display_name": "Synapse PySpark"
    },
    "language_info": {
      "name": "python"
    },
    "description": null,
    "save_output": true,
    "synapse_widget": {
      "version": "0.1",
      "state": {
        "854d3de6-e82c-4f9f-b762-6f81943542d0": {
          "type": "Synapse.DataFrame",
          "sync_state": {
            "table": {
              "rows": [
                {
                  "0": "Y",
                  "1": "A",
                  "2": "Agilent Technologies, Inc. Common Stock",
                  "3": "N",
                  "4": " ",
                  "5": "N",
                  "6": "100.0",
                  "7": "N",
                  "9": "A",
                  "10": "A",
                  "11": "N"
                },
                {
                  "0": "Y",
                  "1": "AA",
                  "2": "Alcoa Corporation Common Stock ",
                  "3": "N",
                  "4": " ",
                  "5": "N",
                  "6": "100.0",
                  "7": "N",
                  "9": "AA",
                  "10": "AA",
                  "11": "N"
                },
                {
                  "0": "Y",
                  "1": "AAAU",
                  "2": "Perth Mint Physical Gold ETF",
                  "3": "P",
                  "4": " ",
                  "5": "Y",
                  "6": "100.0",
                  "7": "N",
                  "9": "AAAU",
                  "10": "AAAU",
                  "11": "N"
                }
              ],
              "schema": [
                {
                  "key": "0",
                  "name": "Nasdaq Traded",
                  "type": "string"
                },
                {
                  "key": "1",
                  "name": "Symbol",
                  "type": "string"
                },
                {
                  "key": "2",
                  "name": "Security Name",
                  "type": "string"
                },
                {
                  "key": "3",
                  "name": "Listing Exchange",
                  "type": "string"
                },
                {
                  "key": "4",
                  "name": "Market Category",
                  "type": "string"
                },
                {
                  "key": "5",
                  "name": "ETF",
                  "type": "string"
                },
                {
                  "key": "6",
                  "name": "Round Lot Size",
                  "type": "string"
                },
                {
                  "key": "7",
                  "name": "Test Issue",
                  "type": "string"
                },
                {
                  "key": "8",
                  "name": "Financial Status",
                  "type": "string"
                },
                {
                  "key": "9",
                  "name": "CQS Symbol",
                  "type": "string"
                },
                {
                  "key": "10",
                  "name": "NASDAQ Symbol",
                  "type": "string"
                },
                {
                  "key": "11",
                  "name": "NextShares",
                  "type": "string"
                }
              ],
              "truncated": false
            },
            "isSummary": false,
            "language": "scala"
          },
          "persist_state": {
            "view": {
              "type": "details",
              "tableOptions": {},
              "chartOptions": {
                "chartType": "bar",
                "aggregationType": "count",
                "categoryFieldKeys": [
                  "0"
                ],
                "seriesFieldKeys": [
                  "0"
                ],
                "isStacked": false
              }
            }
          }
        },
        "0ea8f9c9-d8df-4bd9-9145-f0854277f1ec": {
          "type": "Synapse.DataFrame",
          "sync_state": {
            "table": {
              "rows": [
                {
                  "0": "1962-01-02",
                  "1": "0.13127270340919495",
                  "2": "0.13127270340919495",
                  "3": "0.12417688220739365",
                  "4": "0.12417688220739365",
                  "5": "0.00688728503882885",
                  "6": "2480300"
                },
                {
                  "0": "1962-01-03",
                  "1": "0.12417688220739365",
                  "2": "0.12417688220739365",
                  "3": "0.12151595205068588",
                  "4": "0.12284641712903976",
                  "5": "0.006813489831984043",
                  "6": "507300"
                },
                {
                  "0": "1962-01-04",
                  "1": "0.12284641712903976",
                  "2": "0.126837819814682",
                  "3": "0.11796803772449493",
                  "4": "0.120185486972332",
                  "5": "0.006665901280939579",
                  "6": "845500"
                }
              ],
              "schema": [
                {
                  "key": "0",
                  "name": "Date",
                  "type": "string"
                },
                {
                  "key": "1",
                  "name": "Open",
                  "type": "string"
                },
                {
                  "key": "2",
                  "name": "High",
                  "type": "string"
                },
                {
                  "key": "3",
                  "name": "Low",
                  "type": "string"
                },
                {
                  "key": "4",
                  "name": "Close",
                  "type": "string"
                },
                {
                  "key": "5",
                  "name": "Adj Close",
                  "type": "string"
                },
                {
                  "key": "6",
                  "name": "Volume",
                  "type": "string"
                }
              ],
              "truncated": false
            },
            "isSummary": false,
            "language": "scala"
          },
          "persist_state": {
            "view": {
              "type": "details",
              "tableOptions": {},
              "chartOptions": {
                "chartType": "bar",
                "aggregationType": "count",
                "categoryFieldKeys": [
                  "0"
                ],
                "seriesFieldKeys": [
                  "0"
                ],
                "isStacked": false
              }
            }
          }
        },
        "442e1b2b-7484-48ff-a257-8a87d33f5420": {
          "type": "Synapse.DataFrame",
          "sync_state": {
            "table": {
              "rows": [
                {
                  "0": "1962-01-02",
                  "1": "0.13127270340919495",
                  "2": "0.13127270340919495",
                  "3": "0.12417688220739365",
                  "4": "0.12417688220739365",
                  "5": "0.00688728503882885",
                  "6": "2480300",
                  "7": "HPQ"
                },
                {
                  "0": "1962-01-03",
                  "1": "0.12417688220739365",
                  "2": "0.12417688220739365",
                  "3": "0.12151595205068588",
                  "4": "0.12284641712903976",
                  "5": "0.006813489831984043",
                  "6": "507300",
                  "7": "HPQ"
                }
              ],
              "schema": [
                {
                  "key": "0",
                  "name": "Date",
                  "type": "string"
                },
                {
                  "key": "1",
                  "name": "Open",
                  "type": "string"
                },
                {
                  "key": "2",
                  "name": "High",
                  "type": "string"
                },
                {
                  "key": "3",
                  "name": "Low",
                  "type": "string"
                },
                {
                  "key": "4",
                  "name": "Close",
                  "type": "string"
                },
                {
                  "key": "5",
                  "name": "Adj Close",
                  "type": "string"
                },
                {
                  "key": "6",
                  "name": "Volume",
                  "type": "string"
                },
                {
                  "key": "7",
                  "name": "Symbol",
                  "type": "string"
                }
              ],
              "truncated": false
            },
            "isSummary": false,
            "language": "scala"
          },
          "persist_state": {
            "view": {
              "type": "details",
              "tableOptions": {},
              "chartOptions": {
                "chartType": "bar",
                "aggregationType": "count",
                "categoryFieldKeys": [
                  "0"
                ],
                "seriesFieldKeys": [
                  "0"
                ],
                "isStacked": false
              }
            }
          }
        },
        "55a508da-1433-4a88-880c-e3d53dbba720": {
          "type": "Synapse.DataFrame",
          "sync_state": {
            "table": {
              "rows": [
                {
                  "0": "1986-04-03",
                  "1": "0.0",
                  "2": "4.75",
                  "3": "4.625",
                  "4": "4.625",
                  "5": "4.449552059173584",
                  "6": "15300"
                },
                {
                  "0": "1986-04-04",
                  "1": "0.0",
                  "2": "4.75",
                  "3": "4.6875",
                  "4": "4.75",
                  "5": "4.56981086730957",
                  "6": "12000"
                },
                {
                  "0": "1986-04-07",
                  "1": "0.0",
                  "2": "4.875",
                  "3": "4.75",
                  "4": "4.75",
                  "5": "4.56981086730957",
                  "6": "11500"
                }
              ],
              "schema": [
                {
                  "key": "0",
                  "name": "Date",
                  "type": "string"
                },
                {
                  "key": "1",
                  "name": "Open",
                  "type": "string"
                },
                {
                  "key": "2",
                  "name": "High",
                  "type": "string"
                },
                {
                  "key": "3",
                  "name": "Low",
                  "type": "string"
                },
                {
                  "key": "4",
                  "name": "Close",
                  "type": "string"
                },
                {
                  "key": "5",
                  "name": "Adj Close",
                  "type": "string"
                },
                {
                  "key": "6",
                  "name": "Volume",
                  "type": "string"
                }
              ],
              "truncated": false
            },
            "isSummary": false,
            "language": "scala"
          },
          "persist_state": {
            "view": {
              "type": "details",
              "tableOptions": {},
              "chartOptions": {
                "chartType": "bar",
                "aggregationType": "count",
                "categoryFieldKeys": [
                  "0"
                ],
                "seriesFieldKeys": [
                  "0"
                ],
                "isStacked": false
              }
            }
          }
        },
        "4fb93d27-a1b4-4a31-b2d2-b19786e55c05": {
          "type": "Synapse.DataFrame",
          "sync_state": {
            "table": {
              "rows": [
                {
                  "0": "1986-04-03",
                  "1": "0.0",
                  "2": "4.75",
                  "3": "4.625",
                  "4": "4.625",
                  "5": "4.449552059173584",
                  "6": "15300",
                  "7": "CEF"
                },
                {
                  "0": "1986-04-04",
                  "1": "0.0",
                  "2": "4.75",
                  "3": "4.6875",
                  "4": "4.75",
                  "5": "4.56981086730957",
                  "6": "12000",
                  "7": "CEF"
                }
              ],
              "schema": [
                {
                  "key": "0",
                  "name": "Date",
                  "type": "string"
                },
                {
                  "key": "1",
                  "name": "Open",
                  "type": "string"
                },
                {
                  "key": "2",
                  "name": "High",
                  "type": "string"
                },
                {
                  "key": "3",
                  "name": "Low",
                  "type": "string"
                },
                {
                  "key": "4",
                  "name": "Close",
                  "type": "string"
                },
                {
                  "key": "5",
                  "name": "Adj Close",
                  "type": "string"
                },
                {
                  "key": "6",
                  "name": "Volume",
                  "type": "string"
                },
                {
                  "key": "7",
                  "name": "Symbol",
                  "type": "string"
                }
              ],
              "truncated": false
            },
            "isSummary": false,
            "language": "scala"
          },
          "persist_state": {
            "view": {
              "type": "details",
              "tableOptions": {},
              "chartOptions": {
                "chartType": "bar",
                "aggregationType": "count",
                "categoryFieldKeys": [
                  "0"
                ],
                "seriesFieldKeys": [
                  "0"
                ],
                "isStacked": false
              }
            }
          }
        },
        "243b31e0-a185-4180-93ef-c56b0b9ba9c4": {
          "type": "Synapse.DataFrame",
          "sync_state": {
            "table": {
              "rows": [
                {
                  "0": "NI",
                  "1": "1973-03-16",
                  "2": "0.0",
                  "3": "4.3467583656311035",
                  "4": "4.3467583656311035",
                  "5": "4.3467583656311035",
                  "6": "233100.0",
                  "7": "NiSource Inc Common Stock",
                  "8": "0.04050604999065399"
                },
                {
                  "0": "NI",
                  "1": "1976-01-13",
                  "2": "0.0",
                  "3": "3.5363457202911377",
                  "4": "3.5117878913879395",
                  "5": "3.5363457202911377",
                  "6": "44200.0",
                  "7": "NiSource Inc Common Stock",
                  "8": "0.03295408934354782"
                },
                {
                  "0": "NI",
                  "1": "1978-05-31",
                  "2": "0.0",
                  "3": "3.4135560989379883",
                  "4": "3.3644399642944336",
                  "5": "3.388998031616211",
                  "6": "15700.0",
                  "7": "NiSource Inc Common Stock",
                  "8": "0.031581006944179535"
                }
              ],
              "schema": [
                {
                  "key": "0",
                  "name": "Symbol",
                  "type": "string"
                },
                {
                  "key": "1",
                  "name": "Date",
                  "type": "string"
                },
                {
                  "key": "2",
                  "name": "Open",
                  "type": "double"
                },
                {
                  "key": "3",
                  "name": "High",
                  "type": "double"
                },
                {
                  "key": "4",
                  "name": "Low",
                  "type": "double"
                },
                {
                  "key": "5",
                  "name": "Close",
                  "type": "double"
                },
                {
                  "key": "6",
                  "name": "Volume",
                  "type": "double"
                },
                {
                  "key": "7",
                  "name": "Security_Name",
                  "type": "string"
                },
                {
                  "key": "8",
                  "name": "Adj_Close",
                  "type": "double"
                }
              ],
              "truncated": false
            },
            "isSummary": false,
            "language": "scala"
          },
          "persist_state": {
            "view": {
              "type": "details",
              "tableOptions": {},
              "chartOptions": {
                "chartType": "bar",
                "aggregationType": "sum",
                "categoryFieldKeys": [
                  "0"
                ],
                "seriesFieldKeys": [
                  "2"
                ],
                "isStacked": false
              }
            }
          }
        }
      }
    }
  },
  "nbformat": 4,
  "nbformat_minor": 2
}